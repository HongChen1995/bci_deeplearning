{
 "cells": [
  {
   "cell_type": "code",
   "execution_count": 1,
   "metadata": {},
   "outputs": [],
   "source": [
    "import numpy as np\n",
    "from sklearn.metrics import roc_auc_score, precision_score, recall_score, accuracy_score\n",
    "import torch\n",
    "import collections\n",
    "import torch.nn as nn\n",
    "import torch.optim as optim\n",
    "from torch.autograd import Variable\n",
    "import torch.nn.functional as F\n",
    "import torch.optim as optim\n",
    "import torch.utils.data as dt"
   ]
  },
  {
   "cell_type": "code",
   "execution_count": 2,
   "metadata": {
    "collapsed": true
   },
   "outputs": [],
   "source": [
    "from preprocessing.preprocessing import Preprocess\n",
    "import utils.dlc_bci as bci\n",
    "import utils.hyperparams as hyperparams\n",
    "from model.eegnet.trainer import EEGNetTrainer"
   ]
  },
  {
   "cell_type": "code",
   "execution_count": 3,
   "metadata": {},
   "outputs": [],
   "source": [
    "model,\\\n",
    "epochs,\\\n",
    "batch_size,\\\n",
    "learning_rate = hyperparams.load_config()"
   ]
  },
  {
   "cell_type": "code",
   "execution_count": 4,
   "metadata": {},
   "outputs": [
    {
     "data": {
      "text/plain": [
       "('EEG', 20, 1, 1e-08)"
      ]
     },
     "execution_count": 4,
     "metadata": {},
     "output_type": "execute_result"
    }
   ],
   "source": [
    "model, epochs, batch_size, learning_rate"
   ]
  },
  {
   "cell_type": "code",
   "execution_count": 5,
   "metadata": {
    "collapsed": true
   },
   "outputs": [],
   "source": [
    "data_path='../../data_bci'"
   ]
  },
  {
   "cell_type": "code",
   "execution_count": 6,
   "metadata": {
    "collapsed": true
   },
   "outputs": [],
   "source": [
    "train_inputs, train_targets = bci.load(root=data_path, one_khz=True)\n",
    "test_inputs, test_targets = bci.load(root=data_path, train=False, one_khz=True)\n",
    "pp = Preprocess()"
   ]
  },
  {
   "cell_type": "code",
   "execution_count": 7,
   "metadata": {
    "collapsed": true
   },
   "outputs": [],
   "source": [
    "train_inputs, test_inputs = pp.transform(train_inputs, test_inputs)"
   ]
  },
  {
   "cell_type": "code",
   "execution_count": 8,
   "metadata": {
    "collapsed": true
   },
   "outputs": [],
   "source": [
    "# Datasets\n",
    "train_dataset = dt.TensorDataset(train_inputs, train_targets)\n",
    "test_dataset = dt.TensorDataset(test_inputs, test_targets)\n",
    "train_loader = dt.DataLoader(dataset=train_dataset,\n",
    "                                          batch_size=batch_size,\n",
    "                                          shuffle=True)\n",
    "test_loader = dt.DataLoader(dataset=test_dataset,\n",
    "                                          batch_size=batch_size,\n",
    "                                          shuffle=True)"
   ]
  },
  {
   "cell_type": "code",
   "execution_count": 9,
   "metadata": {},
   "outputs": [],
   "source": [
    "tr = EEGNetTrainer(num_epochs=epochs, batch_size=batch_size)"
   ]
  },
  {
   "cell_type": "code",
   "execution_count": 10,
   "metadata": {},
   "outputs": [
    {
     "name": "stdout",
     "output_type": "stream",
     "text": [
      "\n",
      " ------ Epoch n° 1 / 20 ------\n",
      "\t• Training Loss  223.561758518219\n",
      "\t\t- Train  accuracy of the model : 56 %\n",
      "\t\t- Test  accuracy of the model : 51 %\n",
      "\n",
      " ------ Epoch n° 2 / 20 ------\n",
      "\t• Training Loss  210.82373466715217\n",
      "\t\t- Train  accuracy of the model : 68 %\n",
      "\t\t- Test  accuracy of the model : 60 %\n",
      "\n",
      " ------ Epoch n° 3 / 20 ------\n",
      "\t• Training Loss  190.68268568255007\n",
      "\t\t- Train  accuracy of the model : 73 %\n",
      "\t\t- Test  accuracy of the model : 63 %\n",
      "\n",
      " ------ Epoch n° 4 / 20 ------\n",
      "\t• Training Loss  175.76187535584904\n",
      "\t\t- Train  accuracy of the model : 78 %\n",
      "\t\t- Test  accuracy of the model : 69 %\n",
      "\n",
      " ------ Epoch n° 5 / 20 ------\n",
      "\t• Training Loss  153.83995911781676\n",
      "\t\t- Train  accuracy of the model : 77 %\n",
      "\t\t- Test  accuracy of the model : 68 %\n",
      "\n",
      " ------ Epoch n° 6 / 20 ------\n",
      "\t• Training Loss  144.51536715612747\n",
      "\t\t- Train  accuracy of the model : 81 %\n",
      "\t\t- Test  accuracy of the model : 70 %\n",
      "\n",
      " ------ Epoch n° 7 / 20 ------\n",
      "\t• Training Loss  145.91365667642094\n",
      "\t\t- Train  accuracy of the model : 83 %\n",
      "\t\t- Test  accuracy of the model : 71 %\n",
      "\n",
      " ------ Epoch n° 8 / 20 ------\n",
      "\t• Training Loss  144.98788776947185\n",
      "\t\t- Train  accuracy of the model : 82 %\n",
      "\t\t- Test  accuracy of the model : 73 %\n",
      "\n",
      " ------ Epoch n° 9 / 20 ------\n",
      "\t• Training Loss  137.68064626399428\n",
      "\t\t- Train  accuracy of the model : 79 %\n",
      "\t\t- Test  accuracy of the model : 76 %\n",
      "\n",
      " ------ Epoch n° 10 / 20 ------\n",
      "\t• Training Loss  130.10809528434766\n",
      "\t\t- Train  accuracy of the model : 83 %\n",
      "\t\t- Test  accuracy of the model : 77 %\n",
      "\n",
      " ------ Epoch n° 11 / 20 ------\n",
      "\t• Training Loss  116.44730604812503\n",
      "\t\t- Train  accuracy of the model : 86 %\n",
      "\t\t- Test  accuracy of the model : 78 %\n",
      "\n",
      " ------ Epoch n° 12 / 20 ------\n",
      "\t• Training Loss  121.63006887483061\n",
      "\t\t- Train  accuracy of the model : 86 %\n",
      "\t\t- Test  accuracy of the model : 71 %\n",
      "\n",
      " ------ Epoch n° 13 / 20 ------\n",
      "\t• Training Loss  122.92710827420888\n",
      "\t\t- Train  accuracy of the model : 82 %\n",
      "\t\t- Test  accuracy of the model : 72 %\n",
      "\n",
      " ------ Epoch n° 14 / 20 ------\n",
      "\t• Training Loss  119.73998467973433\n",
      "\t\t- Train  accuracy of the model : 88 %\n",
      "\t\t- Test  accuracy of the model : 74 %\n",
      "\n",
      " ------ Epoch n° 15 / 20 ------\n",
      "\t• Training Loss  110.08104674477363\n",
      "\t\t- Train  accuracy of the model : 89 %\n",
      "\t\t- Test  accuracy of the model : 73 %\n",
      "\n",
      " ------ Epoch n° 16 / 20 ------\n",
      "\t• Training Loss  96.99323007365456\n",
      "\t\t- Train  accuracy of the model : 88 %\n",
      "\t\t- Test  accuracy of the model : 76 %\n",
      "\n",
      " ------ Epoch n° 17 / 20 ------\n",
      "\t• Training Loss  129.20889414126577\n",
      "\t\t- Train  accuracy of the model : 88 %\n",
      "\t\t- Test  accuracy of the model : 74 %\n",
      "\n",
      " ------ Epoch n° 18 / 20 ------\n",
      "\t• Training Loss  98.47181113042097\n",
      "\t\t- Train  accuracy of the model : 83 %\n",
      "\t\t- Test  accuracy of the model : 70 %\n",
      "\n",
      " ------ Epoch n° 19 / 20 ------\n",
      "\t• Training Loss  98.1100433854117\n",
      "\t\t- Train  accuracy of the model : 78 %\n",
      "\t\t- Test  accuracy of the model : 69 %\n",
      "\n",
      " ------ Epoch n° 20 / 20 ------\n",
      "\t• Training Loss  96.12303945043823\n",
      "\t\t- Train  accuracy of the model : 90 %\n",
      "\t\t- Test  accuracy of the model : 72 %\n",
      "Finished.\n"
     ]
    }
   ],
   "source": [
    "tr.train(train_loader=train_loader, test_loader=test_loader)"
   ]
  },
  {
   "cell_type": "code",
   "execution_count": 11,
   "metadata": {},
   "outputs": [
    {
     "name": "stdout",
     "output_type": "stream",
     "text": [
      "Structure saved successfully.\n"
     ]
    }
   ],
   "source": [
    "tr.create_graph()"
   ]
  },
  {
   "cell_type": "code",
   "execution_count": null,
   "metadata": {
    "collapsed": true
   },
   "outputs": [],
   "source": []
  }
 ],
 "metadata": {
  "kernelspec": {
   "display_name": "Python 3",
   "language": "python",
   "name": "python3"
  },
  "language_info": {
   "codemirror_mode": {
    "name": "ipython",
    "version": 3
   },
   "file_extension": ".py",
   "mimetype": "text/x-python",
   "name": "python",
   "nbconvert_exporter": "python",
   "pygments_lexer": "ipython3",
   "version": "3.6.2"
  }
 },
 "nbformat": 4,
 "nbformat_minor": 2
}
