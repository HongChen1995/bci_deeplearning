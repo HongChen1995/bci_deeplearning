{
 "cells": [
  {
   "cell_type": "code",
   "execution_count": 1,
   "metadata": {
    "collapsed": true
   },
   "outputs": [],
   "source": [
    "import utils.dlc_bci as bci\n",
    "import numpy as np\n",
    "import matplotlib.pyplot as plt\n",
    "import torch"
   ]
  },
  {
   "cell_type": "code",
   "execution_count": 2,
   "metadata": {
    "collapsed": true
   },
   "outputs": [],
   "source": [
    "train_input , train_target = bci.load(root='../../data_bci', one_khz = True)\n",
    "test_input , test_target = bci.load ( root = '../../data_bci', train = False, one_khz = True)"
   ]
  },
  {
   "cell_type": "code",
   "execution_count": null,
   "metadata": {
    "collapsed": true
   },
   "outputs": [],
   "source": [
    "import tensorly as tl"
   ]
  },
  {
   "cell_type": "code",
   "execution_count": null,
   "metadata": {
    "collapsed": true
   },
   "outputs": [],
   "source": [
    "from tensorly.decomposition import parafac, tucker"
   ]
  },
  {
   "cell_type": "code",
   "execution_count": null,
   "metadata": {
    "collapsed": true
   },
   "outputs": [],
   "source": [
    "def decompose_tucker(inputs, decomposed_channels=3):\n",
    "    tucker_rank = [train_inputs.shape[0]+test_inputs.shape[0], train_inputs.shape[1], decomposed_channels]\n",
    "    inputs = inputs.numpy()\n",
    "    core, tucker_factors = tucker(inputs, ranks=tucker_rank, n_iter_max=100, init=\"svd\", tol=1e-06, random_state=None, verbose=True)\n",
    "    core = torch.Tensor(core)\n",
    "    return core[:train_inputs.shape[0]], core[-test_inputs.shape[0]:]\n",
    "train_inputs, test_inputs = decompose_tucker(inputs, decomposed_channels=16)"
   ]
  },
  {
   "cell_type": "code",
   "execution_count": null,
   "metadata": {
    "collapsed": true
   },
   "outputs": [],
   "source": [
    "class AddGaussianNoise(object):\n",
    "    \"\"\"Add gaussian noise to a numpy.ndarray (H x W x C)\n",
    "    \"\"\"\n",
    "\n",
    "    def __init__(self, mean, sigma, random_state=np.random):\n",
    "        self.sigma = sigma\n",
    "        self.mean = mean\n",
    "        self.random_state = random_state\n",
    "\n",
    "    def __call__(self, image):\n",
    "        if isinstance(self.sigma, collections.Sequence):\n",
    "            sigma = random_num_generator(\n",
    "                self.sigma, random_state=self.random_state)\n",
    "        else:\n",
    "            sigma = self.sigma\n",
    "        if isinstance(self.mean, collections.Sequence):\n",
    "            mean = random_num_generator(self.mean, random_state=self.random_state)\n",
    "        else:\n",
    "            mean = self.mean\n",
    "        row, col, ch = image.shape\n",
    "        gauss = self.random_state.normal(mean, sigma, (row, col, ch))\n",
    "        image += torch.Tensor(gauss).float()\n",
    "        return image\n",
    "train_inputs = torch.cat((AddGaussianNoise(means, stds).__call__(train_inputs), train_inputs), 0)\n",
    "train_targets = torch.cat((train_targets, train_targets), 0)"
   ]
  }
 ],
 "metadata": {
  "kernelspec": {
   "display_name": "Python 3",
   "language": "python",
   "name": "python3"
  },
  "language_info": {
   "codemirror_mode": {
    "name": "ipython",
    "version": 3
   },
   "file_extension": ".py",
   "mimetype": "text/x-python",
   "name": "python",
   "nbconvert_exporter": "python",
   "pygments_lexer": "ipython3",
   "version": "3.6.2"
  }
 },
 "nbformat": 4,
 "nbformat_minor": 2
}
