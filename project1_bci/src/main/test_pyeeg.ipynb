{
 "cells": [
  {
   "cell_type": "code",
   "execution_count": 1,
   "metadata": {
    "collapsed": true
   },
   "outputs": [],
   "source": [
    "import pyeeg"
   ]
  },
  {
   "cell_type": "code",
   "execution_count": 2,
   "metadata": {
    "collapsed": true
   },
   "outputs": [],
   "source": [
    "from numpy.random import randn"
   ]
  },
  {
   "cell_type": "code",
   "execution_count": 26,
   "metadata": {},
   "outputs": [
    {
     "name": "stdout",
     "output_type": "stream",
     "text": [
      "------\n",
      "[[ 0.27292508 -2.05991441  1.23300241 ..., -1.24076045 -0.7880638\n",
      "   0.53373692]\n",
      " [ 0.8646457  -0.74573866 -0.51205104 ...,  0.2751537  -0.24611034\n",
      "   1.87546353]\n",
      " [-1.23488948  0.8125244  -0.01224175 ..., -2.15904167  2.19040426\n",
      "   0.07971735]\n",
      " ..., \n",
      " [-1.39326705 -1.48809881  0.35124669 ...,  0.33138021  1.49848305\n",
      "  -1.66634537]\n",
      " [ 1.69407904 -1.19579596  1.54767341 ..., -0.67599806 -0.18416091\n",
      "  -1.08268602]\n",
      " [-0.7507822   0.79393022  1.39114176 ...,  0.06821742 -0.78147842\n",
      "  -0.21460152]]\n",
      "0.503424924772\n"
     ]
    }
   ],
   "source": [
    "for i in range(0,10):\n",
    "    print(\"------\")    \n",
    "    print(randn(150, 150))\n",
    "    print(pyeeg.dfa(randn(4096)))\n",
    "    break"
   ]
  },
  {
   "cell_type": "code",
   "execution_count": null,
   "metadata": {
    "collapsed": true
   },
   "outputs": [],
   "source": []
  }
 ],
 "metadata": {
  "kernelspec": {
   "display_name": "Python 3",
   "language": "python",
   "name": "python3"
  },
  "language_info": {
   "codemirror_mode": {
    "name": "ipython",
    "version": 3
   },
   "file_extension": ".py",
   "mimetype": "text/x-python",
   "name": "python",
   "nbconvert_exporter": "python",
   "pygments_lexer": "ipython3",
   "version": "3.6.3"
  }
 },
 "nbformat": 4,
 "nbformat_minor": 2
}
