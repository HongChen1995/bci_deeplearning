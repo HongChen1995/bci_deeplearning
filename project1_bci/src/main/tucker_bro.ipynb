{
 "cells": [
  {
   "cell_type": "code",
   "execution_count": 1,
   "metadata": {},
   "outputs": [
    {
     "name": "stderr",
     "output_type": "stream",
     "text": [
      "Using numpy backend.\n",
      "Using pytorch backend.\n"
     ]
    }
   ],
   "source": [
    "import numpy as np\n",
    "from sklearn.metrics import roc_auc_score, precision_score, recall_score, accuracy_score\n",
    "import torch\n",
    "import torch.nn as nn\n",
    "import torch.optim as optim\n",
    "from torch.autograd import Variable\n",
    "import torch.nn.functional as F\n",
    "import torch.optim as optim\n",
    "import torch.utils.data as dt\n",
    "import utils.dlc_bci as bci\n",
    "from torchvision.transforms import transforms\n",
    "from IPython.display import clear_output\n",
    "import time\n",
    "import tensorly as tl\n",
    "tl.set_backend('pytorch')\n",
    "from tensorly.decomposition import parafac, tucker"
   ]
  },
  {
   "cell_type": "code",
   "execution_count": null,
   "metadata": {
    "collapsed": true
   },
   "outputs": [],
   "source": [
    "# Hyperparams\n",
    "batch_size = 1\n",
    "num_epochs = 20\n",
    "\n",
    "# Loading data\n",
    "train_input , train_target = bci.load(root='../../data_bci', one_khz = True)\n",
    "test_input , test_target = bci.load ( root = '../../data_bci', train = False, one_khz = True)\n",
    "train_input = train_input.permute(0,2,1)\n",
    "test_input = test_input.permute(0,2,1)\n",
    "#train_input = train_input.view(train_input.shape[0], 1, 28, 500).permute(0,1,3,2)\n",
    "#test_input = test_input.view(test_input.shape[0], 1, 28, 500).permute(0,1,3,2)\n",
    "normalized_input = (train_input - train_input.mean(dim=1).mean(dim=0)) / train_input.std(dim=1).mean(dim=0)\n",
    "# Rank of the Tucker decomposition\n",
    "tucker_rank = [315, 500, 3]\n",
    "core, tucker_factors = tucker(normalized_input, ranks=tucker_rank, n_iter_max=100, init=\"svd\", tol=1e-06, random_state=None, verbose=True)"
   ]
  }
 ],
 "metadata": {
  "kernelspec": {
   "display_name": "Python 3",
   "language": "python",
   "name": "python3"
  },
  "language_info": {
   "codemirror_mode": {
    "name": "ipython",
    "version": 3
   },
   "file_extension": ".py",
   "mimetype": "text/x-python",
   "name": "python",
   "nbconvert_exporter": "python",
   "pygments_lexer": "ipython3",
   "version": "3.6.2"
  }
 },
 "nbformat": 4,
 "nbformat_minor": 2
}
