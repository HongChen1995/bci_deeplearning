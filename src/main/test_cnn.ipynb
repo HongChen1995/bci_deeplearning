{
 "cells": [
  {
   "cell_type": "markdown",
   "metadata": {},
   "source": [
    "# Imports"
   ]
  },
  {
   "cell_type": "code",
   "execution_count": 1,
   "metadata": {
    "collapsed": true
   },
   "outputs": [],
   "source": [
    "import torch\n",
    "import torch.nn as nn\n",
    "\n",
    "import torch.utils.data as dt\n",
    "from torch.autograd import Variable\n",
    "\n",
    "from model.cnn.train_cnn import CNNTrainer\n",
    "import utils.dlc_bci as bci\n",
    "from  utils.preprocessing import Preprocessing"
   ]
  },
  {
   "cell_type": "markdown",
   "metadata": {},
   "source": [
    "# CNN Trainer"
   ]
  },
  {
   "cell_type": "code",
   "execution_count": 4,
   "metadata": {},
   "outputs": [],
   "source": [
    "trainer = CNNTrainer(CNN())"
   ]
  },
  {
   "cell_type": "code",
   "execution_count": 5,
   "metadata": {},
   "outputs": [
    {
     "name": "stdout",
     "output_type": "stream",
     "text": [
      "Epoch [1/15], Iter [100/316] Loss: 2.7394\n",
      "Epoch [1/15], Iter [200/316] Loss: 0.1165\n",
      "Epoch [1/15], Iter [300/316] Loss: 1.2596\n",
      "Epoch [2/15], Iter [100/316] Loss: 0.0121\n",
      "Epoch [2/15], Iter [200/316] Loss: 1.8749\n",
      "Epoch [2/15], Iter [300/316] Loss: 0.1851\n",
      "Epoch [3/15], Iter [100/316] Loss: 0.2434\n",
      "Epoch [3/15], Iter [200/316] Loss: 0.0005\n",
      "Epoch [3/15], Iter [300/316] Loss: 0.0108\n",
      "Epoch [4/15], Iter [100/316] Loss: 3.2801\n",
      "Epoch [4/15], Iter [200/316] Loss: 0.7577\n",
      "Epoch [4/15], Iter [300/316] Loss: 1.8334\n",
      "Epoch [5/15], Iter [100/316] Loss: 0.0066\n",
      "Epoch [5/15], Iter [200/316] Loss: 0.6702\n",
      "Epoch [5/15], Iter [300/316] Loss: 0.2605\n",
      "Epoch [6/15], Iter [100/316] Loss: 0.0022\n",
      "Epoch [6/15], Iter [200/316] Loss: 0.0815\n",
      "Epoch [6/15], Iter [300/316] Loss: 0.0290\n",
      "Epoch [7/15], Iter [100/316] Loss: 0.0147\n",
      "Epoch [7/15], Iter [200/316] Loss: 0.0195\n",
      "Epoch [7/15], Iter [300/316] Loss: 0.0489\n",
      "Epoch [8/15], Iter [100/316] Loss: 0.0092\n",
      "Epoch [8/15], Iter [200/316] Loss: 1.4876\n",
      "Epoch [8/15], Iter [300/316] Loss: 0.0004\n",
      "Epoch [9/15], Iter [100/316] Loss: 0.0045\n",
      "Epoch [9/15], Iter [200/316] Loss: 0.0630\n",
      "Epoch [9/15], Iter [300/316] Loss: 1.0085\n",
      "Epoch [10/15], Iter [100/316] Loss: 0.2130\n",
      "Epoch [10/15], Iter [200/316] Loss: 0.0029\n",
      "Epoch [10/15], Iter [300/316] Loss: 0.1065\n",
      "Epoch [11/15], Iter [100/316] Loss: 0.0010\n",
      "Epoch [11/15], Iter [200/316] Loss: 0.0001\n",
      "Epoch [11/15], Iter [300/316] Loss: 0.0133\n",
      "Epoch [12/15], Iter [100/316] Loss: 0.0021\n",
      "Epoch [12/15], Iter [200/316] Loss: 0.0086\n",
      "Epoch [12/15], Iter [300/316] Loss: 0.0015\n",
      "Epoch [13/15], Iter [100/316] Loss: 0.0090\n",
      "Epoch [13/15], Iter [200/316] Loss: 0.2745\n",
      "Epoch [13/15], Iter [300/316] Loss: 0.0020\n",
      "Epoch [14/15], Iter [100/316] Loss: 0.0594\n",
      "Epoch [14/15], Iter [200/316] Loss: 0.0013\n",
      "Epoch [14/15], Iter [300/316] Loss: 0.0062\n",
      "Epoch [15/15], Iter [100/316] Loss: 0.0252\n",
      "Epoch [15/15], Iter [200/316] Loss: 0.0003\n",
      "Epoch [15/15], Iter [300/316] Loss: 0.2811\n",
      "Test Accuracy of the model on the 10000 test images: 65 %\n"
     ]
    }
   ],
   "source": [
    "trainer.train_cnn()"
   ]
  },
  {
   "cell_type": "markdown",
   "metadata": {},
   "source": [
    "# CNN model"
   ]
  },
  {
   "cell_type": "code",
   "execution_count": 3,
   "metadata": {
    "collapsed": true
   },
   "outputs": [],
   "source": [
    "class CNN(nn.Module):\n",
    "\n",
    "    def __init__(self, kernel_size=5, padding=2):\n",
    "        super(CNN, self).__init__()\n",
    "        self.layer1 = nn.Sequential(\n",
    "            nn.Conv1d(28, 16, kernel_size=5, padding=2),\n",
    "            nn.BatchNorm1d(16),\n",
    "            nn.Tanh(),\n",
    "            nn.MaxPool1d(2))\n",
    "        self.layer2 = nn.Sequential(\n",
    "            nn.Conv1d(16, 32, kernel_size=5, padding=2),\n",
    "            nn.BatchNorm1d(32),\n",
    "            nn.Tanh(),\n",
    "            nn.MaxPool1d(2))\n",
    "        self.fc = nn.Linear(4000, 2)\n",
    "\n",
    "    def forward(self, x):\n",
    "        out = self.layer1(x)\n",
    "        out = self.layer2(out)\n",
    "        out = out.view(out.size(0), -1)\n",
    "        out = self.fc(out)\n",
    "        return out"
   ]
  },
  {
   "cell_type": "code",
   "execution_count": null,
   "metadata": {
    "collapsed": true
   },
   "outputs": [],
   "source": []
  }
 ],
 "metadata": {
  "kernelspec": {
   "display_name": "Python 3",
   "language": "python",
   "name": "python3"
  },
  "language_info": {
   "codemirror_mode": {
    "name": "ipython",
    "version": 3
   },
   "file_extension": ".py",
   "mimetype": "text/x-python",
   "name": "python",
   "nbconvert_exporter": "python",
   "pygments_lexer": "ipython3",
   "version": "3.6.3"
  }
 },
 "nbformat": 4,
 "nbformat_minor": 2
}
