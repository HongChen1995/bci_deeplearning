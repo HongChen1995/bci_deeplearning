{
 "cells": [
  {
   "cell_type": "markdown",
   "metadata": {},
   "source": [
    "# Imports"
   ]
  },
  {
   "cell_type": "code",
   "execution_count": null,
   "metadata": {
    "collapsed": true
   },
   "outputs": [],
   "source": [
    "import torch\n",
    "import torch.nn as nn\n",
    "\n",
    "import torch.utils.data as dt\n",
    "from torch.autograd import Variable\n",
    "\n",
<<<<<<< HEAD
=======
    "from .basic_cnn import CNN\n",
    "\n",
>>>>>>> f6c572edd6a20bdf4d249ed193d0b6a9a2bf5d0c
    "import utils.dlc_bci as bci\n",
    "from  utils.preprocessing import Preprocessing"
   ]
  },
  {
   "cell_type": "markdown",
   "metadata": {},
   "source": [
    "# CNN Trainer"
   ]
  },
  {
   "cell_type": "code",
<<<<<<< HEAD
   "execution_count": 205,
   "metadata": {
    "collapsed": true
   },
   "outputs": [],
   "source": [
    "class CNN(nn.Module):\n",
    "\n",
    "    def __init__(self, kernel_size=10, padding=3, n_classes = 2):\n",
    "        super(CNN, self).__init__()\n",
    "        self.layer1 = nn.Sequential(\n",
    "            nn.Conv1d(500, 318, kernel_size=kernel_size, padding=padding),\n",
    "            nn.BatchNorm1d(318),\n",
    "            nn.Tanh(),\n",
    "            nn.MaxPool1d(n_classes))\n",
    "        self.layerd = nn.Dropout2d(p=0.6)\n",
    "        self.layer2 = nn.Sequential(\n",
    "            nn.Conv1d(318, 32, kernel_size=kernel_size, padding=padding),\n",
    "            nn.BatchNorm1d(32),\n",
    "            nn.Tanh(),\n",
    "            nn.MaxPool1d(n_classes))\n",
    "        self.fc = nn.Linear(128, n_classes)\n",
    "\n",
    "    def forward(self, x):\n",
    "        out = self.layer1(x)\n",
    "        out = self.layerd(out)\n",
    "        out = self.layer2(out)\n",
    "        out = out.view(out.size(0), -1)\n",
    "        out = self.fc(out)\n",
    "        return out"
   ]
  },
  {
   "cell_type": "code",
   "execution_count": 245,
   "metadata": {
    "collapsed": true
   },
   "outputs": [],
   "source": [
    "class DCNN(nn.Module):\n",
    "    def __init__(self, kernel_size=3, padding=2, n_classes = 2):\n",
    "        super(DCNN, self).__init__()\n",
    "        self.input_layer = nn.Sequential(\n",
    "            nn.Conv1d(500, 350, kernel_size=kernel_size, padding=padding),\n",
    "            nn.BatchNorm1d(350),\n",
    "            nn.Tanh(),\n",
    "            nn.MaxPool1d(n_classes))\n",
    "        self.dropout_layer = nn.Dropout2d(p=0.2)\n",
    "        self.hidden_layer = nn.Sequential(\n",
    "            nn.Conv1d(350, 350, kernel_size=kernel_size, padding=padding),\n",
    "            nn.BatchNorm1d(350),\n",
    "            nn.Tanh(),\n",
    "            nn.MaxPool1d(n_classes))\n",
    "        self.output_layer = nn.Linear(700, n_classes)\n",
    "\n",
    "    def forward(self, x):\n",
    "        out = self.input_layer(x)\n",
    "        for i in range(5):\n",
    "            out = self.dropout_layer(out)\n",
    "            out = self.hidden_layer(out)\n",
    "        out = out.view(out.size(0), -1)\n",
    "        out = self.output_layer(out)\n",
    "        return out"
   ]
  },
  {
   "cell_type": "code",
   "execution_count": 252,
   "metadata": {
    "collapsed": true
   },
   "outputs": [],
   "source": [
    "# Hyper params\n",
    "learning_rate = 1e-4\n",
    "batch_size = 1\n",
    "num_epochs = 10\n",
    "\n",
    "train_input , train_target = bci.load(root='../../data_bci', one_khz = True)\n",
    "test_input , test_target = bci.load ( root = '../../data_bci', train = False, one_khz = True)\n",
    "train_dataset = dt.TensorDataset(train_input, train_target)\n",
    "test_dataset = dt.TensorDataset(test_input, test_target)\n",
    "train_loader = dt.DataLoader(dataset=train_dataset,\n",
    "                                          batch_size=batch_size,\n",
    "                                          shuffle=True)\n",
    "test_loader = dt.DataLoader(dataset=test_dataset,\n",
    "                                          batch_size=batch_size,\n",
    "                                          shuffle=True)"
   ]
  },
  {
   "cell_type": "code",
   "execution_count": 257,
   "metadata": {},
   "outputs": [
    {
     "name": "stdout",
     "output_type": "stream",
     "text": [
      "label  Variable containing:\n",
      " 1\n",
      "[torch.LongTensor of size 1]\n",
      "\n",
      "output  Variable containing:\n",
      "-0.4828 -0.1595\n",
      "[torch.FloatTensor of size 1x2]\n",
      "\n",
      "label  Variable containing:\n",
      " 1\n",
      "[torch.LongTensor of size 1]\n",
      "\n",
      "output  Variable containing:\n",
      "-0.3490  0.2108\n",
      "[torch.FloatTensor of size 1x2]\n",
      "\n",
      "label  Variable containing:\n",
      " 0\n",
      "[torch.LongTensor of size 1]\n",
      "\n",
      "output  Variable containing:\n",
      "-0.4460 -0.0307\n",
      "[torch.FloatTensor of size 1x2]\n",
      "\n",
      "label  Variable containing:\n",
      " 1\n",
      "[torch.LongTensor of size 1]\n",
      "\n",
      "output  Variable containing:\n",
      "-0.5247  0.1082\n",
      "[torch.FloatTensor of size 1x2]\n",
      "\n",
      "label  Variable containing:\n",
      " 0\n",
      "[torch.LongTensor of size 1]\n",
      "\n",
      "output  Variable containing:\n",
      "-0.4653  0.1315\n",
      "[torch.FloatTensor of size 1x2]\n",
      "\n",
      "label  Variable containing:\n",
      " 0\n",
      "[torch.LongTensor of size 1]\n",
      "\n",
      "output  Variable containing:\n",
      "-0.6774  0.2506\n",
      "[torch.FloatTensor of size 1x2]\n",
      "\n",
      "label  Variable containing:\n",
      " 0\n",
      "[torch.LongTensor of size 1]\n",
      "\n",
      "output  Variable containing:\n",
      "-0.5682  0.1002\n",
      "[torch.FloatTensor of size 1x2]\n",
      "\n",
      "label  Variable containing:\n",
      " 0\n",
      "[torch.LongTensor of size 1]\n",
      "\n",
      "output  Variable containing:\n",
      "-0.1769  0.0078\n",
      "[torch.FloatTensor of size 1x2]\n",
      "\n",
      "label  Variable containing:\n",
      " 0\n",
      "[torch.LongTensor of size 1]\n",
      "\n",
      "output  Variable containing:\n",
      "-0.4460  0.0752\n",
      "[torch.FloatTensor of size 1x2]\n",
      "\n",
      "label  Variable containing:\n",
      " 0\n",
      "[torch.LongTensor of size 1]\n",
      "\n",
      "output  Variable containing:\n",
      "-0.4398  0.1155\n",
      "[torch.FloatTensor of size 1x2]\n",
      "\n",
      "Test Accuracy of the model on the 10000 test images: 51 %\n"
     ]
    }
   ],
   "source": [
    "# Loss and Optimizer\n",
    "cnn = DCNN()\n",
    "criterion = nn.CrossEntropyLoss()\n",
    "optimizer = torch.optim.Adam(cnn.parameters(), lr=learning_rate)\n",
    "# Train the Model\n",
    "for epoch in range(num_epochs):\n",
    "    for i, (images, labels) in enumerate(train_loader):\n",
    "        images = Variable(images.view(28, 500).t().contiguous().view(1, 500, 28))\n",
    "        #images = Variable(images)\n",
    "        labels = Variable(labels)\n",
    "        # Forward + Backward + Optimize\n",
    "        optimizer.zero_grad()\n",
    "        outputs = cnn(images)\n",
    "        loss = criterion(outputs, labels)\n",
    "        loss.backward()\n",
    "        optimizer.step()\n",
    "        if (i + 1) % 100 == 0:\n",
    "            print('Epoch [%d/%d], Iter [%d/%d] Loss: %.4f'\n",
    "                  % (epoch + 1, num_epochs, i + 1, len(train_dataset) // batch_size, loss.data[0]))\n",
    "\n",
    "# Test the Model\n",
    "cnn.eval()  # Change model to 'eval' mode (BN uses moving mean/var).\n",
    "correct = 0\n",
    "total = 0\n",
    "for images, labels in test_loader:\n",
    "    images = Variable(images.view(28, 500).t().contiguous().view(1, 500, 28))\n",
    "    #images = Variable(images)\n",
    "    outputs = cnn(images)\n",
    "    _, predicted = torch.max(outputs.data, 1)\n",
    "    total += labels.size(0)\n",
    "    correct += (predicted == labels).sum()\n",
    "\n",
    "print('Test Accuracy of the model on the 10000 test images: %d %%' % (100 * correct / total))\n",
    "\n",
    "# Save the Trained Model\n",
    "torch.save(cnn.state_dict(), '../../model/cnn_testing.pkl')"
   ]
  },
  {
   "cell_type": "code",
=======
>>>>>>> f6c572edd6a20bdf4d249ed193d0b6a9a2bf5d0c
   "execution_count": null,
   "metadata": {
    "collapsed": true
   },
   "outputs": [],
   "source": []
  }
 ],
 "metadata": {
  "kernelspec": {
   "display_name": "Python 3",
   "language": "python",
   "name": "python3"
  },
  "language_info": {
   "codemirror_mode": {
    "name": "ipython",
    "version": 3
   },
   "file_extension": ".py",
   "mimetype": "text/x-python",
   "name": "python",
   "nbconvert_exporter": "python",
   "pygments_lexer": "ipython3",
   "version": "3.6.3"
  }
 },
 "nbformat": 4,
 "nbformat_minor": 2
}
